{
 "cells": [
  {
   "cell_type": "code",
   "execution_count": null,
   "id": "fc5574ea-4e9f-453a-8f97-ff16277f58bf",
   "metadata": {},
   "outputs": [],
   "source": [
    "import pandas as pd\n",
    "import numpy as np\n",
    "from sklearn.tree import DecisionTreeClassifier\n",
    "from sklearn.preprocessing import LabelEncoder\n",
    "data = pd.DataFrame([\n",
    "    ['Sunny', 'Hot', 'High', 'Weak', 'No'],\n",
    "    ['Sunny', 'Hot', 'High', 'Strong', 'No'],\n",
    "    ['Overcast', 'Hot', 'High', 'Weak', 'Yes'],\n",
    "    ['Rain', 'Mild', 'High', 'Weak', 'Yes'],\n",
    "    ['Rain', 'Cool', 'Normal', 'Weak', 'Yes'],\n",
    "    ['Rain', 'Cool', 'Normal', 'Strong', 'No'],\n",
    "    ['Overcast', 'Cool', 'Normal', 'Strong', 'Yes'],\n",
    "    ['Sunny', 'Mild', 'High', 'Weak', 'No'],\n",
    "    ['Sunny', 'Cool', 'Normal', 'Weak', 'Yes'],\n",
    "    ['Rain', 'Mild', 'Normal', 'Weak', 'Yes'],\n",
    "    ['Sunny', 'Mild', 'Normal', 'Strong', 'Yes'],\n",
    "    ['Overcast', 'Mild', 'High', 'Strong', 'Yes'],\n",
    "    ['Overcast', 'Hot', 'Normal', 'Weak', 'Yes'],\n",
    "    ['Rain', 'Mild', 'High', 'Strong', 'No']\n",
    "], columns=['Outlook', 'Temperature', 'Humidity', 'Wind', 'PlayTennis'])\n",
    "#Encode categorical values\n",
    "label_encoders = {}  # Store label encoders for each column\n",
    "for col in data.columns:\n",
    "    le = LabelEncoder()\n",
    "    data[col] = le.fit_transform(data[col])\n",
    "    label_encoders[col] = le  # Store the encoder\n",
    "#  Split features and target\n",
    "X = data.drop(columns=['PlayTennis'])\n",
    "y = data['PlayTennis']\n",
    "# Train the Decision Tree model\n",
    "model = DecisionTreeClassifier(criterion='entropy')\n",
    "model.fit(X, y)\n",
    "# Classify a new sample\n",
    "new_sample = pd.DataFrame([['Sunny', 'Cool', 'High', 'Strong']], \n",
    "                          columns=['Outlook', 'Temperature', 'Humidity', 'Wind'])\n",
    "#Encode new sample using the same label encoders\n",
    "for col in new_sample.columns:\n",
    "    new_sample[col] = label_encoders[col].transform(new_sample[col])\n",
    "#Predict using trained model\n",
    "prediction = model.predict(new_sample)\n",
    "# Decode the prediction\n",
    "predicted_label = label_encoders['PlayTennis'].inverse_transform(prediction)\n",
    "print(\"Predicted class for new sample:\", predicted_label[0])\n"
   ]
  },
  {
   "cell_type": "code",
   "execution_count": null,
   "id": "ba30479a-8c66-43e2-bd2f-fbeda15c99c8",
   "metadata": {},
   "outputs": [],
   "source": []
  },
  {
   "cell_type": "code",
   "execution_count": null,
   "id": "ab70cd4a-5a72-4af2-868e-f899f35c435c",
   "metadata": {},
   "outputs": [],
   "source": []
  }
 ],
 "metadata": {
  "kernelspec": {
   "display_name": "Python 3 (ipykernel)",
   "language": "python",
   "name": "python3"
  },
  "language_info": {
   "codemirror_mode": {
    "name": "ipython",
    "version": 3
   },
   "file_extension": ".py",
   "mimetype": "text/x-python",
   "name": "python",
   "nbconvert_exporter": "python",
   "pygments_lexer": "ipython3",
   "version": "3.12.7"
  }
 },
 "nbformat": 4,
 "nbformat_minor": 5
}
