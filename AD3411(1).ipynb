{
 "cells": [
  {
   "cell_type": "code",
   "execution_count": 9,
   "id": "6f61f973-e2d8-49c5-88b2-e01bc68ffb11",
   "metadata": {},
   "outputs": [
    {
     "name": "stdout",
     "output_type": "stream",
     "text": [
      "Final Specific Hypothesis: ['Sunny' 'Warm' '?' 'Strong' '?' '?']\n",
      "Final General Hypothesis: [['?', '?', '?', 'Strong', '?', '?']]\n"
     ]
    }
   ],
   "source": [
    "import numpy as np\n",
    "import pandas as pd\n",
    "data = pd.DataFrame({\n",
    "    'Sky': ['Sunny', 'Sunny', 'Rainy', 'Sunny'],\n",
    "    'AirTemp': ['Warm', 'Warm', 'Cold', 'Warm'],\n",
    "    'Humidity': ['Normal', 'High', 'High', 'High'],\n",
    "    'Wind': ['Strong', 'Strong', 'Strong', 'Strong'],\n",
    "    'Water': ['Warm', 'Warm', 'Warm', 'Cool'],\n",
    "    'Forecast': ['Same', 'Same', 'Change', 'Change'],\n",
    "    'EnjoySport': ['Yes', 'Yes', 'No', 'Yes']\n",
    "})\n",
    "attributes = data.iloc[:, :-1].values  # All columns except last\n",
    "target = data.iloc[:, -1].values       # Last column - Target\n",
    "num_attributes = attributes.shape[1]\n",
    "# Initialize S with the first positive example\n",
    "for i in range(len(target)):\n",
    "    if target[i] == \"Yes\":\n",
    "        S = attributes[i].copy()\n",
    "        break  # Stop after finding the first positive example\n",
    "# Initialize G with most general hypothesis\n",
    "G = [[\"?\"] * num_attributes]\n",
    "# Learn from the examples\n",
    "for i in range(len(target)):\n",
    "    if target[i] == \"Yes\":  # If positive example\n",
    "        for j in range(num_attributes):\n",
    "            if S[j] != attributes[i][j]:  # Generalize S if mismatch\n",
    "                S[j] = \"?\"\n",
    "        # Remove inconsistent hypotheses from G\n",
    "        G = [g for g in G if all(g[k] == \"?\" or g[k] == S[k] for k in range(num_attributes))]\n",
    "    elif target[i] == \"No\":  # If negative example\n",
    "        new_G = []\n",
    "        for g in G:\n",
    "            for j in range(num_attributes):\n",
    "                if g[j] == \"?\":  # Specialize only when needed\n",
    "                    new_hypothesis = g.copy()\n",
    "                    new_hypothesis[j] = attributes[i][j]\n",
    "                    new_G.append(new_hypothesis)   \n",
    "        G = new_G  # Update G with specialized hypotheses\n",
    "print(\"Final Specific Hypothesis:\", S)\n",
    "print(\"Final General Hypothesis:\", G)\n"
   ]
  },
  {
   "cell_type": "code",
   "execution_count": null,
   "id": "0f338f9d-6184-46ff-aa6c-bfc0fb1053e9",
   "metadata": {},
   "outputs": [],
   "source": []
  }
 ],
 "metadata": {
  "kernelspec": {
   "display_name": "Python 3 (ipykernel)",
   "language": "python",
   "name": "python3"
  },
  "language_info": {
   "codemirror_mode": {
    "name": "ipython",
    "version": 3
   },
   "file_extension": ".py",
   "mimetype": "text/x-python",
   "name": "python",
   "nbconvert_exporter": "python",
   "pygments_lexer": "ipython3",
   "version": "3.12.7"
  }
 },
 "nbformat": 4,
 "nbformat_minor": 5
}
