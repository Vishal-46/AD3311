import numpy as np
import pandas as pd
data = pd.DataFrame({
    'Sky': ['Sunny', 'Sunny', 'Rainy', 'Sunny'],
    'AirTemp': ['Warm', 'Warm', 'Cold', 'Warm'],
    'Humidity': ['Normal', 'High', 'High', 'High'],
    'Wind': ['Strong', 'Strong', 'Strong', 'Strong'],
    'Water': ['Warm', 'Warm', 'Warm', 'Cool'],
    'Forecast': ['Same', 'Same', 'Change', 'Change'],
    'EnjoySport': ['Yes', 'Yes', 'No', 'Yes']
})
attributes = data.iloc[:, :-1].values  # All columns except last
target = data.iloc[:, -1].values       # Last column - Target
num_attributes = attributes.shape[1]
# Initialize S with the first positive example
for i in range(len(target)):
    if target[i] == "Yes":
        S = attributes[i].copy()
        break  # Stop after finding the first positive example
# Initialize G with most general hypothesis
G = [["?"] * num_attributes]
# Learn from the examples
for i in range(len(target)):
    if target[i] == "Yes":  # If positive example
        for j in range(num_attributes):
            if S[j] != attributes[i][j]:  # Generalize S if mismatch
                S[j] = "?"
        # Remove inconsistent hypotheses from G
        G = [g for g in G if all(g[k] == "?" or g[k] == S[k] for k in range(num_attributes))]
    elif target[i] == "No":  # If negative example
        new_G = []
        for g in G:
            for j in range(num_attributes):
                if g[j] == "?":  # Specialize only when needed
                    new_hypothesis = g.copy()
                    new_hypothesis[j] = attributes[i][j]
                    new_G.append(new_hypothesis)   
        G = new_G  # Update G with specialized hypotheses
print("Final Specific Hypothesis:", S)
print("Final General Hypothesis:", G)

