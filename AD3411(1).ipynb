{
 "cells": [
  {
   "cell_type": "code",
   "execution_count": 3,
   "id": "6f61f973-e2d8-49c5-88b2-e01bc68ffb11",
   "metadata": {},
   "outputs": [
    {
     "name": "stdout",
     "output_type": "stream",
     "text": [
      "Final Specific Hypothesis: ['ϕ', 'ϕ', 'ϕ', 'ϕ', 'ϕ', 'ϕ', 'ϕ']\n",
      "Final General Hypothesis: [['?', '?', '?', '?', '?', '?', '?']]\n"
     ]
    }
   ],
   "source": [
    "import pandas as pd\n",
    "import numpy as np\n",
    "\n",
    "data = pd.read_csv(\"D:/New folder/training_data.csv\")\n",
    "attributes = data.iloc[:, :-1].values  \n",
    "target = data.iloc[:, -1].values \n",
    "num_attributes = len(attributes[0])\n",
    "S = [\"ϕ\"] * num_attributes \n",
    "G = [[\"?\"] * num_attributes]  \n",
    "for i, instance in enumerate(attributes):\n",
    "    if target[i] == \"Yes\":  \n",
    "        for j in range(num_attributes):\n",
    "            if S[j] == \"ϕ\": \n",
    "                S[j] = instance[j]\n",
    "            elif S[j] != instance[j]: \n",
    "                S[j] = \"?\"\n",
    "        G = [g for g in G if all(g[k] == \"?\" or g[k] == instance[k] for k in range(num_attributes))]\n",
    "    \n",
    "    elif target[i] == \"No\": ,
    "        new_G = []\n",
    "        for g in G:\n",
    "            for j in range(num_attributes):\n",
    "                if g[j] == \"?\":\n",
    "                    if S[j] != instance[j]: ,
    "                        new_g = g.copy()\n",
    "                        new_g[j] = S[j]\n",
    "                        new_G.append(new_g)\n",
    "        G = new_G\n",
    "\n",
    "print(\"Final Specific Hypothesis:\", S)\n",
    "print(\"Final General Hypothesis:\", G)\n"
   ]
  },
  {
   "cell_type": "code",
   "execution_count": null,
   "id": "0f338f9d-6184-46ff-aa6c-bfc0fb1053e9",
   "metadata": {},
   "outputs": [],
   "source": []
  }
 ],
 "metadata": {
  "kernelspec": {
   "display_name": "Python 3 (ipykernel)",
   "language": "python",
   "name": "python3"
  },
  "language_info": {
   "codemirror_mode": {
    "name": "ipython",
    "version": 3
   },
   "file_extension": ".py",
   "mimetype": "text/x-python",
   "name": "python",
   "nbconvert_exporter": "python",
   "pygments_lexer": "ipython3",
   "version": "3.12.7"
  }
 },
 "nbformat": 4,
 "nbformat_minor": 5
}
